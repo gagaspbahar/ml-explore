{
 "cells": [
  {
   "cell_type": "code",
   "execution_count": 40,
   "metadata": {},
   "outputs": [],
   "source": [
    "from sklearn import tree\n",
    "from sklearn.datasets import load_breast_cancer\n",
    "from sklearn.model_selection import train_test_split\n",
    "from sklearn.cluster import KMeans\n",
    "from sklearn.linear_model import LogisticRegression\n",
    "from sklearn.neural_network import MLPClassifier\n",
    "from sklearn.svm import SVC\n",
    "from sklearn.pipeline import make_pipeline\n",
    "from sklearn.preprocessing import StandardScaler\n",
    "\n",
    "import pickle\n",
    "from sklearn.metrics import accuracy_score, precision_score, recall_score, f1_score, confusion_matrix"
   ]
  },
  {
   "cell_type": "code",
   "execution_count": 2,
   "metadata": {},
   "outputs": [],
   "source": [
    "# Load the data\n",
    "cancer = load_breast_cancer()\n",
    "x_train, x_test, y_train, y_test = train_test_split(cancer.data, cancer.target, test_size=0.2)"
   ]
  },
  {
   "cell_type": "code",
   "execution_count": 3,
   "metadata": {},
   "outputs": [],
   "source": [
    "clf = tree.DecisionTreeClassifier()\n",
    "clf = clf.fit(x_train, y_train)"
   ]
  },
  {
   "cell_type": "code",
   "execution_count": 4,
   "metadata": {},
   "outputs": [
    {
     "name": "stdout",
     "output_type": "stream",
     "text": [
      "|--- worst area <= 874.85\n",
      "|   |--- worst concave points <= 0.14\n",
      "|   |   |--- area error <= 48.98\n",
      "|   |   |   |--- smoothness error <= 0.00\n",
      "|   |   |   |   |--- worst concave points <= 0.09\n",
      "|   |   |   |   |   |--- class: 1\n",
      "|   |   |   |   |--- worst concave points >  0.09\n",
      "|   |   |   |   |   |--- class: 0\n",
      "|   |   |   |--- smoothness error >  0.00\n",
      "|   |   |   |   |--- worst texture <= 33.35\n",
      "|   |   |   |   |   |--- class: 1\n",
      "|   |   |   |   |--- worst texture >  33.35\n",
      "|   |   |   |   |   |--- worst concave points <= 0.09\n",
      "|   |   |   |   |   |   |--- class: 1\n",
      "|   |   |   |   |   |--- worst concave points >  0.09\n",
      "|   |   |   |   |   |   |--- class: 0\n",
      "|   |   |--- area error >  48.98\n",
      "|   |   |   |--- mean perimeter <= 78.51\n",
      "|   |   |   |   |--- class: 0\n",
      "|   |   |   |--- mean perimeter >  78.51\n",
      "|   |   |   |   |--- class: 1\n",
      "|   |--- worst concave points >  0.14\n",
      "|   |   |--- worst texture <= 25.67\n",
      "|   |   |   |--- worst concave points <= 0.14\n",
      "|   |   |   |   |--- class: 0\n",
      "|   |   |   |--- worst concave points >  0.14\n",
      "|   |   |   |   |--- worst smoothness <= 0.18\n",
      "|   |   |   |   |   |--- class: 1\n",
      "|   |   |   |   |--- worst smoothness >  0.18\n",
      "|   |   |   |   |   |--- class: 0\n",
      "|   |   |--- worst texture >  25.67\n",
      "|   |   |   |--- worst area <= 492.25\n",
      "|   |   |   |   |--- class: 1\n",
      "|   |   |   |--- worst area >  492.25\n",
      "|   |   |   |   |--- perimeter error <= 1.53\n",
      "|   |   |   |   |   |--- mean smoothness <= 0.10\n",
      "|   |   |   |   |   |   |--- class: 0\n",
      "|   |   |   |   |   |--- mean smoothness >  0.10\n",
      "|   |   |   |   |   |   |--- class: 1\n",
      "|   |   |   |   |--- perimeter error >  1.53\n",
      "|   |   |   |   |   |--- class: 0\n",
      "|--- worst area >  874.85\n",
      "|   |--- mean concavity <= 0.07\n",
      "|   |   |--- mean texture <= 19.54\n",
      "|   |   |   |--- mean compactness <= 0.06\n",
      "|   |   |   |   |--- class: 0\n",
      "|   |   |   |--- mean compactness >  0.06\n",
      "|   |   |   |   |--- class: 1\n",
      "|   |   |--- mean texture >  19.54\n",
      "|   |   |   |--- class: 0\n",
      "|   |--- mean concavity >  0.07\n",
      "|   |   |--- class: 0\n",
      "\n"
     ]
    }
   ],
   "source": [
    "tree_text = tree.export_text(clf, feature_names=list(cancer.feature_names))\n",
    "print(tree_text)"
   ]
  },
  {
   "cell_type": "code",
   "execution_count": 5,
   "metadata": {},
   "outputs": [],
   "source": [
    "pickle.dump(clf, open('models/tree_model.sav', 'wb'))"
   ]
  },
  {
   "cell_type": "code",
   "execution_count": 6,
   "metadata": {},
   "outputs": [
    {
     "name": "stdout",
     "output_type": "stream",
     "text": [
      "Decision Tree Classifier\n",
      "Accuracy:  0.9385964912280702\n",
      "Precision:  0.9552238805970149\n",
      "Recall:  0.9411764705882353\n",
      "F1 Score:  0.9481481481481482\n",
      "Confusion matrix:  [[43  3]\n",
      " [ 4 64]]\n"
     ]
    }
   ],
   "source": [
    "tree_model = pickle.load(open('models/tree_model.sav', 'rb'))\n",
    "y_pred_tree = tree_model.predict(x_test)\n",
    "\n",
    "print(\"Decision Tree Classifier\")\n",
    "\n",
    "print(\"Accuracy: \", accuracy_score(y_test, y_pred_tree))\n",
    "print(\"Precision: \", precision_score(y_test, y_pred_tree))\n",
    "print(\"Recall: \", recall_score(y_test, y_pred_tree))\n",
    "print(\"F1 Score: \", f1_score(y_test, y_pred_tree))\n",
    "print(\"Confusion matrix: \", confusion_matrix(y_test, y_pred_tree))"
   ]
  },
  {
   "cell_type": "code",
   "execution_count": 28,
   "metadata": {},
   "outputs": [],
   "source": [
    "kmeans = KMeans(n_clusters=2, random_state=0).fit(x_train)\n",
    "pickle.dump(kmeans, open('models/kmeans_model.sav', 'wb'))"
   ]
  },
  {
   "cell_type": "code",
   "execution_count": 29,
   "metadata": {},
   "outputs": [
    {
     "name": "stdout",
     "output_type": "stream",
     "text": [
      "KMeans Classifier\n",
      "Accuracy:  0.17543859649122806\n",
      "Precision:  0.03571428571428571\n",
      "Recall:  0.014705882352941176\n",
      "F1 Score:  0.020833333333333332\n",
      "Confusion matrix:  [[19 27]\n",
      " [67  1]]\n"
     ]
    }
   ],
   "source": [
    "kmeans_model = pickle.load(open('models/kmeans_model.sav', 'rb'))\n",
    "y_pred_kmeans = kmeans_model.predict(x_test)\n",
    "\n",
    "print(\"KMeans Classifier\")\n",
    "\n",
    "print(\"Accuracy: \", accuracy_score(y_test, y_pred_kmeans))\n",
    "print(\"Precision: \", precision_score(y_test, y_pred_kmeans))\n",
    "print(\"Recall: \", recall_score(y_test, y_pred_kmeans))\n",
    "print(\"F1 Score: \", f1_score(y_test, y_pred_kmeans))\n",
    "print(\"Confusion matrix: \", confusion_matrix(y_test, y_pred_kmeans))"
   ]
  },
  {
   "cell_type": "code",
   "execution_count": 30,
   "metadata": {},
   "outputs": [],
   "source": [
    "logisticRegr = LogisticRegression(max_iter=10000).fit(x_train, y_train)\n",
    "pickle.dump(logisticRegr, open('models/logistic_model.sav', 'wb'))"
   ]
  },
  {
   "cell_type": "code",
   "execution_count": 31,
   "metadata": {},
   "outputs": [
    {
     "name": "stdout",
     "output_type": "stream",
     "text": [
      "Logistic Regression Classifier\n",
      "Accuracy:  0.9649122807017544\n",
      "Precision:  0.9705882352941176\n",
      "Recall:  0.9705882352941176\n",
      "F1 Score:  0.9705882352941176\n",
      "Confusion matrix:  [[44  2]\n",
      " [ 2 66]]\n"
     ]
    }
   ],
   "source": [
    "logistic_model = pickle.load(open('models/logistic_model.sav', 'rb'))\n",
    "y_pred_logistic = logistic_model.predict(x_test)\n",
    "\n",
    "print(\"Logistic Regression Classifier\")\n",
    "\n",
    "print(\"Accuracy: \", accuracy_score(y_test, y_pred_logistic))\n",
    "print(\"Precision: \", precision_score(y_test, y_pred_logistic))\n",
    "print(\"Recall: \", recall_score(y_test, y_pred_logistic))\n",
    "print(\"F1 Score: \", f1_score(y_test, y_pred_logistic))\n",
    "print(\"Confusion matrix: \", confusion_matrix(y_test, y_pred_logistic))"
   ]
  },
  {
   "cell_type": "code",
   "execution_count": 36,
   "metadata": {},
   "outputs": [],
   "source": [
    "neural_network = MLPClassifier(solver='lbfgs', alpha=1e-5, hidden_layer_sizes=(5, 2), random_state=1, max_iter=1000).fit(x_train, y_train)\n",
    "pickle.dump(neural_network, open('models/neural_model.sav', 'wb'))"
   ]
  },
  {
   "cell_type": "code",
   "execution_count": 37,
   "metadata": {},
   "outputs": [
    {
     "name": "stdout",
     "output_type": "stream",
     "text": [
      "Neural Network Classifier\n",
      "Accuracy:  0.9210526315789473\n",
      "Precision:  0.8933333333333333\n",
      "Recall:  0.9852941176470589\n",
      "F1 Score:  0.9370629370629371\n",
      "Confusion matrix:  [[38  8]\n",
      " [ 1 67]]\n"
     ]
    }
   ],
   "source": [
    "neural_model = pickle.load(open('models/neural_model.sav', 'rb'))\n",
    "y_pred_neural = neural_model.predict(x_test)\n",
    "\n",
    "print(\"Neural Network Classifier\")\n",
    "\n",
    "print(\"Accuracy: \", accuracy_score(y_test, y_pred_neural))\n",
    "print(\"Precision: \", precision_score(y_test, y_pred_neural))\n",
    "print(\"Recall: \", recall_score(y_test, y_pred_neural))\n",
    "print(\"F1 Score: \", f1_score(y_test, y_pred_neural))\n",
    "print(\"Confusion matrix: \", confusion_matrix(y_test, y_pred_neural))"
   ]
  },
  {
   "cell_type": "code",
   "execution_count": 43,
   "metadata": {},
   "outputs": [],
   "source": [
    "svm = make_pipeline(StandardScaler(), SVC(gamma='auto')).fit(x_train, y_train)\n",
    "pickle.dump(svm, open('models/svm_model.sav', 'wb'))"
   ]
  },
  {
   "cell_type": "code",
   "execution_count": 44,
   "metadata": {},
   "outputs": [
    {
     "name": "stdout",
     "output_type": "stream",
     "text": [
      "SVM Classifier\n",
      "Accuracy:  0.9824561403508771\n",
      "Precision:  0.9852941176470589\n",
      "Recall:  0.9852941176470589\n",
      "F1 Score:  0.9852941176470589\n",
      "Confusion matrix:  [[45  1]\n",
      " [ 1 67]]\n"
     ]
    }
   ],
   "source": [
    "svm_model = pickle.load(open('models/svm_model.sav', 'rb'))\n",
    "y_pred_svm = svm_model.predict(x_test)\n",
    "\n",
    "print(\"SVM Classifier\")\n",
    "\n",
    "print(\"Accuracy: \", accuracy_score(y_test, y_pred_svm))\n",
    "print(\"Precision: \", precision_score(y_test, y_pred_svm))\n",
    "print(\"Recall: \", recall_score(y_test, y_pred_svm))\n",
    "print(\"F1 Score: \", f1_score(y_test, y_pred_svm))\n",
    "print(\"Confusion matrix: \", confusion_matrix(y_test, y_pred_svm))"
   ]
  }
 ],
 "metadata": {
  "kernelspec": {
   "display_name": "Python 3",
   "language": "python",
   "name": "python3"
  },
  "language_info": {
   "codemirror_mode": {
    "name": "ipython",
    "version": 3
   },
   "file_extension": ".py",
   "mimetype": "text/x-python",
   "name": "python",
   "nbconvert_exporter": "python",
   "pygments_lexer": "ipython3",
   "version": "3.9.6"
  },
  "vscode": {
   "interpreter": {
    "hash": "fcfea723ff818178e15c545460e62a88e8490de3a02e2a783b9f4cbbd3056f38"
   }
  }
 },
 "nbformat": 4,
 "nbformat_minor": 2
}
