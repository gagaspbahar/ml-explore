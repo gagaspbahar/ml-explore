{
 "cells": [
  {
   "cell_type": "markdown",
   "metadata": {},
   "source": [
    "# Tugas 1 Machine Learning Eksplorasi algoritme pembelajaran"
   ]
  },
  {
   "cell_type": "markdown",
   "metadata": {},
   "source": [
    "13520016 - Gagas Praharsa Bahar  \n",
    "13520029 - Muhammad Garebaldhie ER Rahman"
   ]
  },
  {
   "cell_type": "markdown",
   "metadata": {},
   "source": [
    "# Import modules and libraries"
   ]
  },
  {
   "cell_type": "code",
   "execution_count": 1,
   "metadata": {},
   "outputs": [],
   "source": [
    "import six\n",
    "import sys\n",
    "sys.modules['sklearn.externals.six'] = six\n",
    "import pickle\n",
    "\n",
    "\n",
    "from sklearn import tree\n",
    "from sklearn.datasets import load_breast_cancer\n",
    "from sklearn.model_selection import train_test_split\n",
    "from sklearn.cluster import KMeans\n",
    "from sklearn.linear_model import LogisticRegression\n",
    "from sklearn.neural_network import MLPClassifier\n",
    "from sklearn.svm import SVC\n",
    "from sklearn.pipeline import make_pipeline\n",
    "from sklearn.preprocessing import StandardScaler\n",
    "from sklearn.model_selection import cross_val_score\n",
    "from sklearn.model_selection import cross_validate\n",
    "from sklearn.metrics import accuracy_score, precision_score, recall_score, f1_score, confusion_matrix\n",
    "from id3 import Id3Estimator"
   ]
  },
  {
   "cell_type": "markdown",
   "metadata": {},
   "source": [
    "# Load breast cancer dataset"
   ]
  },
  {
   "cell_type": "code",
   "execution_count": 2,
   "metadata": {},
   "outputs": [],
   "source": [
    "cancer = load_breast_cancer()\n",
    "x_train, x_test, y_train, y_test = train_test_split(cancer.data, cancer.target, test_size=0.2)"
   ]
  },
  {
   "cell_type": "markdown",
   "metadata": {},
   "source": [
    "# Learning Models"
   ]
  },
  {
   "cell_type": "markdown",
   "metadata": {},
   "source": [
    "## Decision Tree Classifier"
   ]
  },
  {
   "cell_type": "markdown",
   "metadata": {},
   "source": [
    "### Do the learning process"
   ]
  },
  {
   "cell_type": "code",
   "execution_count": 3,
   "metadata": {},
   "outputs": [],
   "source": [
    "clf = tree.DecisionTreeClassifier()\n",
    "clf = clf.fit(x_train, y_train)"
   ]
  },
  {
   "cell_type": "markdown",
   "metadata": {},
   "source": [
    "### Visualization of Decision Tree "
   ]
  },
  {
   "cell_type": "code",
   "execution_count": 4,
   "metadata": {},
   "outputs": [
    {
     "name": "stdout",
     "output_type": "stream",
     "text": [
      "|--- worst perimeter <= 106.05\n",
      "|   |--- worst concave points <= 0.16\n",
      "|   |   |--- perimeter error <= 6.60\n",
      "|   |   |   |--- worst concave points <= 0.13\n",
      "|   |   |   |   |--- radius error <= 0.64\n",
      "|   |   |   |   |   |--- smoothness error <= 0.00\n",
      "|   |   |   |   |   |   |--- mean symmetry <= 0.17\n",
      "|   |   |   |   |   |   |   |--- class: 1\n",
      "|   |   |   |   |   |   |--- mean symmetry >  0.17\n",
      "|   |   |   |   |   |   |   |--- class: 0\n",
      "|   |   |   |   |   |--- smoothness error >  0.00\n",
      "|   |   |   |   |   |   |--- worst texture <= 33.27\n",
      "|   |   |   |   |   |   |   |--- class: 1\n",
      "|   |   |   |   |   |   |--- worst texture >  33.27\n",
      "|   |   |   |   |   |   |   |--- worst texture <= 33.56\n",
      "|   |   |   |   |   |   |   |   |--- class: 0\n",
      "|   |   |   |   |   |   |   |--- worst texture >  33.56\n",
      "|   |   |   |   |   |   |   |   |--- class: 1\n",
      "|   |   |   |   |--- radius error >  0.64\n",
      "|   |   |   |   |   |--- mean perimeter <= 78.51\n",
      "|   |   |   |   |   |   |--- class: 0\n",
      "|   |   |   |   |   |--- mean perimeter >  78.51\n",
      "|   |   |   |   |   |   |--- class: 1\n",
      "|   |   |   |--- worst concave points >  0.13\n",
      "|   |   |   |   |--- mean texture <= 21.38\n",
      "|   |   |   |   |   |--- class: 1\n",
      "|   |   |   |   |--- mean texture >  21.38\n",
      "|   |   |   |   |   |--- class: 0\n",
      "|   |   |--- perimeter error >  6.60\n",
      "|   |   |   |--- class: 0\n",
      "|   |--- worst concave points >  0.16\n",
      "|   |   |--- worst concavity <= 1.18\n",
      "|   |   |   |--- class: 0\n",
      "|   |   |--- worst concavity >  1.18\n",
      "|   |   |   |--- class: 1\n",
      "|--- worst perimeter >  106.05\n",
      "|   |--- mean concave points <= 0.05\n",
      "|   |   |--- worst area <= 957.45\n",
      "|   |   |   |--- area error <= 41.28\n",
      "|   |   |   |   |--- class: 1\n",
      "|   |   |   |--- area error >  41.28\n",
      "|   |   |   |   |--- class: 0\n",
      "|   |   |--- worst area >  957.45\n",
      "|   |   |   |--- mean symmetry <= 0.15\n",
      "|   |   |   |   |--- class: 1\n",
      "|   |   |   |--- mean symmetry >  0.15\n",
      "|   |   |   |   |--- class: 0\n",
      "|   |--- mean concave points >  0.05\n",
      "|   |   |--- worst texture <= 20.65\n",
      "|   |   |   |--- mean concave points <= 0.08\n",
      "|   |   |   |   |--- class: 1\n",
      "|   |   |   |--- mean concave points >  0.08\n",
      "|   |   |   |   |--- class: 0\n",
      "|   |   |--- worst texture >  20.65\n",
      "|   |   |   |--- class: 0\n",
      "\n"
     ]
    }
   ],
   "source": [
    "tree_text = tree.export_text(clf, feature_names=list(cancer.feature_names))\n",
    "print(tree_text)"
   ]
  },
  {
   "cell_type": "markdown",
   "metadata": {},
   "source": [
    "### Saving the models as a file"
   ]
  },
  {
   "cell_type": "code",
   "execution_count": 5,
   "metadata": {},
   "outputs": [],
   "source": [
    "pickle.dump(clf, open('models/tree_model.sav', 'wb'))"
   ]
  },
  {
   "cell_type": "markdown",
   "metadata": {},
   "source": [
    "### Load the model and do the prediction"
   ]
  },
  {
   "cell_type": "code",
   "execution_count": 25,
   "metadata": {},
   "outputs": [],
   "source": [
    "tree_model = pickle.load(open('models/tree_model.sav', 'rb'))\n",
    "y_pred_tree = tree_model.predict(x_test)"
   ]
  },
  {
   "cell_type": "markdown",
   "metadata": {},
   "source": [
    "### Result of prediction"
   ]
  },
  {
   "cell_type": "code",
   "execution_count": 24,
   "metadata": {},
   "outputs": [
    {
     "name": "stdout",
     "output_type": "stream",
     "text": [
      "Decision Tree Classifier\n",
      "Accuracy:  0.9122807017543859\n",
      "Precision:  0.9696969696969697\n",
      "Recall:  0.8888888888888888\n",
      "F1 Score:  0.927536231884058\n",
      "Confusion matrix:  [[40  2]\n",
      " [ 8 64]]\n"
     ]
    }
   ],
   "source": [
    "print(\"Decision Tree Classifier\")\n",
    "\n",
    "print(\"Accuracy: \", accuracy_score(y_test, y_pred_tree))\n",
    "print(\"Precision: \", precision_score(y_test, y_pred_tree))\n",
    "print(\"Recall: \", recall_score(y_test, y_pred_tree))\n",
    "print(\"F1 Score: \", f1_score(y_test, y_pred_tree))\n",
    "print(\"Confusion matrix: \", confusion_matrix(y_test, y_pred_tree))"
   ]
  },
  {
   "cell_type": "markdown",
   "metadata": {},
   "source": [
    "## ID3 Estimator"
   ]
  },
  {
   "cell_type": "markdown",
   "metadata": {},
   "source": [
    "### Do the learning process"
   ]
  },
  {
   "cell_type": "code",
   "execution_count": 18,
   "metadata": {},
   "outputs": [],
   "source": [
    "estimator = Id3Estimator()\n",
    "estimator = estimator.fit(x_train, y_train)"
   ]
  },
  {
   "cell_type": "markdown",
   "metadata": {},
   "source": [
    "### Saving the models as a file"
   ]
  },
  {
   "cell_type": "code",
   "execution_count": 19,
   "metadata": {},
   "outputs": [],
   "source": [
    "pickle.dump(estimator, open(\"models/id3_estimator.sav\", \"wb\"))"
   ]
  },
  {
   "cell_type": "markdown",
   "metadata": {},
   "source": [
    "### Load the model and do the prediction"
   ]
  },
  {
   "cell_type": "code",
   "execution_count": 27,
   "metadata": {},
   "outputs": [],
   "source": [
    "id3_model = pickle.load(open(\"models/id3_estimator.sav\", \"rb\"))\n",
    "y_pred_id3 = id3_model.predict(x_test)"
   ]
  },
  {
   "cell_type": "markdown",
   "metadata": {},
   "source": [
    "### Result of prediction"
   ]
  },
  {
   "cell_type": "code",
   "execution_count": 26,
   "metadata": {},
   "outputs": [
    {
     "name": "stdout",
     "output_type": "stream",
     "text": [
      "Prediction using ID3 Estimator\n",
      "Accuracy:  0.9035087719298246\n",
      "Precision:  0.9420289855072463\n",
      "Recall:  0.9027777777777778\n",
      "F1 Score:  0.9219858156028369\n",
      "Confusion matrix:  [[38  4]\n",
      " [ 7 65]]\n"
     ]
    }
   ],
   "source": [
    "print(\"Prediction using ID3 Estimator\")\n",
    "\n",
    "print(\"Accuracy: \", accuracy_score(y_test, y_pred_id3))\n",
    "print(\"Precision: \", precision_score(y_test, y_pred_id3))\n",
    "print(\"Recall: \", recall_score(y_test, y_pred_id3))\n",
    "print(\"F1 Score: \", f1_score(y_test, y_pred_id3))\n",
    "print(\"Confusion matrix: \", confusion_matrix(y_test, y_pred_id3))"
   ]
  },
  {
   "cell_type": "markdown",
   "metadata": {},
   "source": [
    "## KMeans"
   ]
  },
  {
   "cell_type": "markdown",
   "metadata": {},
   "source": [
    "### Do the learning process"
   ]
  },
  {
   "cell_type": "code",
   "execution_count": 8,
   "metadata": {},
   "outputs": [],
   "source": [
    "kmeans = KMeans(n_clusters=2, random_state=0).fit(x_train)"
   ]
  },
  {
   "cell_type": "markdown",
   "metadata": {},
   "source": [
    "### Saving the models as a file"
   ]
  },
  {
   "cell_type": "code",
   "execution_count": 28,
   "metadata": {},
   "outputs": [],
   "source": [
    "pickle.dump(kmeans, open('models/kmeans_model.sav', 'wb'))"
   ]
  },
  {
   "cell_type": "markdown",
   "metadata": {},
   "source": [
    "### Load the model and do the prediction"
   ]
  },
  {
   "cell_type": "code",
   "execution_count": 30,
   "metadata": {},
   "outputs": [],
   "source": [
    "kmeans_model = pickle.load(open('models/kmeans_model.sav', 'rb'))\n",
    "y_pred_kmeans = kmeans_model.predict(x_test)\n",
    "\n"
   ]
  },
  {
   "cell_type": "markdown",
   "metadata": {},
   "source": [
    "### Result of prediction"
   ]
  },
  {
   "cell_type": "code",
   "execution_count": 31,
   "metadata": {},
   "outputs": [
    {
     "name": "stdout",
     "output_type": "stream",
     "text": [
      "KMeans Classifier\n",
      "Accuracy:  0.13157894736842105\n",
      "Precision:  0.0\n",
      "Recall:  0.0\n",
      "F1 Score:  0.0\n",
      "Confusion matrix:  [[15 27]\n",
      " [72  0]]\n"
     ]
    }
   ],
   "source": [
    "print(\"KMeans Classifier\")\n",
    "\n",
    "print(\"Accuracy: \", accuracy_score(y_test, y_pred_kmeans))\n",
    "print(\"Precision: \", precision_score(y_test, y_pred_kmeans))\n",
    "print(\"Recall: \", recall_score(y_test, y_pred_kmeans))\n",
    "print(\"F1 Score: \", f1_score(y_test, y_pred_kmeans))\n",
    "print(\"Confusion matrix: \", confusion_matrix(y_test, y_pred_kmeans))"
   ]
  },
  {
   "cell_type": "markdown",
   "metadata": {},
   "source": [
    "## Logistic Regression"
   ]
  },
  {
   "cell_type": "markdown",
   "metadata": {},
   "source": [
    "### Do the learning process"
   ]
  },
  {
   "cell_type": "code",
   "execution_count": 33,
   "metadata": {},
   "outputs": [],
   "source": [
    "logisticRegr = LogisticRegression(max_iter=10000).fit(x_train, y_train)"
   ]
  },
  {
   "cell_type": "markdown",
   "metadata": {},
   "source": [
    "### Saving the models as a file"
   ]
  },
  {
   "cell_type": "code",
   "execution_count": 32,
   "metadata": {},
   "outputs": [],
   "source": [
    "pickle.dump(logisticRegr, open('models/logistic_model.sav', 'wb'))"
   ]
  },
  {
   "cell_type": "markdown",
   "metadata": {},
   "source": [
    "### Load the model and do the prediction"
   ]
  },
  {
   "cell_type": "code",
   "execution_count": 11,
   "metadata": {},
   "outputs": [
    {
     "name": "stdout",
     "output_type": "stream",
     "text": [
      "Logistic Regression Classifier\n",
      "Accuracy:  0.9473684210526315\n",
      "Precision:  0.9583333333333334\n",
      "Recall:  0.9583333333333334\n",
      "F1 Score:  0.9583333333333334\n",
      "Confusion matrix:  [[39  3]\n",
      " [ 3 69]]\n"
     ]
    }
   ],
   "source": [
    "logistic_model = pickle.load(open('models/logistic_model.sav', 'rb'))\n",
    "y_pred_logistic = logistic_model.predict(x_test)\n",
    "\n",
    "print(\"Logistic Regression Classifier\")\n",
    "\n",
    "print(\"Accuracy: \", accuracy_score(y_test, y_pred_logistic))\n",
    "print(\"Precision: \", precision_score(y_test, y_pred_logistic))\n",
    "print(\"Recall: \", recall_score(y_test, y_pred_logistic))\n",
    "print(\"F1 Score: \", f1_score(y_test, y_pred_logistic))\n",
    "print(\"Confusion matrix: \", confusion_matrix(y_test, y_pred_logistic))"
   ]
  },
  {
   "cell_type": "markdown",
   "metadata": {},
   "source": [
    "### Result of prediction"
   ]
  },
  {
   "cell_type": "code",
   "execution_count": null,
   "metadata": {},
   "outputs": [],
   "source": [
    "print(\"Logistic Regression Classifier\")\n",
    "\n",
    "print(\"Accuracy: \", accuracy_score(y_test, y_pred_logistic))\n",
    "print(\"Precision: \", precision_score(y_test, y_pred_logistic))\n",
    "print(\"Recall: \", recall_score(y_test, y_pred_logistic))\n",
    "print(\"F1 Score: \", f1_score(y_test, y_pred_logistic))\n",
    "print(\"Confusion matrix: \", confusion_matrix(y_test, y_pred_logistic))"
   ]
  },
  {
   "cell_type": "markdown",
   "metadata": {},
   "source": [
    "## Nerual Network"
   ]
  },
  {
   "cell_type": "markdown",
   "metadata": {},
   "source": [
    "### Do the learning process"
   ]
  },
  {
   "cell_type": "code",
   "execution_count": 34,
   "metadata": {},
   "outputs": [],
   "source": [
    "neural_network = MLPClassifier(solver='lbfgs', alpha=1e-5, hidden_layer_sizes=(5, 2), random_state=1, max_iter=1000).fit(x_train, y_train)"
   ]
  },
  {
   "cell_type": "markdown",
   "metadata": {},
   "source": [
    "### Saving the models as a file"
   ]
  },
  {
   "cell_type": "code",
   "execution_count": 12,
   "metadata": {},
   "outputs": [],
   "source": [
    "pickle.dump(neural_network, open('models/neural_model.sav', 'wb'))"
   ]
  },
  {
   "cell_type": "markdown",
   "metadata": {},
   "source": [
    "### Load the model and do the prediction"
   ]
  },
  {
   "cell_type": "code",
   "execution_count": 13,
   "metadata": {},
   "outputs": [
    {
     "name": "stdout",
     "output_type": "stream",
     "text": [
      "Neural Network Classifier\n",
      "Accuracy:  0.9298245614035088\n",
      "Precision:  0.9444444444444444\n",
      "Recall:  0.9444444444444444\n",
      "F1 Score:  0.9444444444444444\n",
      "Confusion matrix:  [[38  4]\n",
      " [ 4 68]]\n"
     ]
    }
   ],
   "source": [
    "neural_model = pickle.load(open('models/neural_model.sav', 'rb'))\n",
    "y_pred_neural = neural_model.predict(x_test)"
   ]
  },
  {
   "cell_type": "markdown",
   "metadata": {},
   "source": [
    "### Result of prediction"
   ]
  },
  {
   "cell_type": "code",
   "execution_count": null,
   "metadata": {},
   "outputs": [],
   "source": [
    "print(\"Neural Network Classifier\")\n",
    "\n",
    "print(\"Accuracy: \", accuracy_score(y_test, y_pred_neural))\n",
    "print(\"Precision: \", precision_score(y_test, y_pred_neural))\n",
    "print(\"Recall: \", recall_score(y_test, y_pred_neural))\n",
    "print(\"F1 Score: \", f1_score(y_test, y_pred_neural))\n",
    "print(\"Confusion matrix: \", confusion_matrix(y_test, y_pred_neural))"
   ]
  },
  {
   "cell_type": "markdown",
   "metadata": {},
   "source": [
    "## Support Vector Machines"
   ]
  },
  {
   "cell_type": "markdown",
   "metadata": {},
   "source": [
    "### Do the learning process"
   ]
  },
  {
   "cell_type": "code",
   "execution_count": 35,
   "metadata": {},
   "outputs": [],
   "source": [
    "svm = make_pipeline(StandardScaler(), SVC(gamma='auto')).fit(x_train, y_train)"
   ]
  },
  {
   "cell_type": "markdown",
   "metadata": {},
   "source": [
    "### Saving the models as a file"
   ]
  },
  {
   "cell_type": "code",
   "execution_count": 36,
   "metadata": {},
   "outputs": [],
   "source": [
    "pickle.dump(svm, open('models/svm_model.sav', 'wb'))"
   ]
  },
  {
   "cell_type": "markdown",
   "metadata": {},
   "source": [
    "### Load the model and do the prediction"
   ]
  },
  {
   "cell_type": "code",
   "execution_count": 15,
   "metadata": {},
   "outputs": [
    {
     "name": "stdout",
     "output_type": "stream",
     "text": [
      "SVM Classifier\n",
      "Accuracy:  0.9912280701754386\n",
      "Precision:  1.0\n",
      "Recall:  0.9861111111111112\n",
      "F1 Score:  0.993006993006993\n",
      "Confusion matrix:  [[42  0]\n",
      " [ 1 71]]\n"
     ]
    }
   ],
   "source": [
    "svm_model = pickle.load(open('models/svm_model.sav', 'rb'))\n",
    "y_pred_svm = svm_model.predict(x_test)"
   ]
  },
  {
   "cell_type": "markdown",
   "metadata": {},
   "source": [
    "### Result of prediction"
   ]
  },
  {
   "cell_type": "code",
   "execution_count": 37,
   "metadata": {},
   "outputs": [
    {
     "name": "stdout",
     "output_type": "stream",
     "text": [
      "SVM Classifier\n",
      "Accuracy:  0.9912280701754386\n",
      "Precision:  1.0\n",
      "Recall:  0.9861111111111112\n",
      "F1 Score:  0.993006993006993\n",
      "Confusion matrix:  [[42  0]\n",
      " [ 1 71]]\n"
     ]
    }
   ],
   "source": [
    "print(\"SVM Classifier\")\n",
    "\n",
    "print(\"Accuracy: \", accuracy_score(y_test, y_pred_svm))\n",
    "print(\"Precision: \", precision_score(y_test, y_pred_svm))\n",
    "print(\"Recall: \", recall_score(y_test, y_pred_svm))\n",
    "print(\"F1 Score: \", f1_score(y_test, y_pred_svm))\n",
    "print(\"Confusion matrix: \", confusion_matrix(y_test, y_pred_svm))"
   ]
  },
  {
   "cell_type": "markdown",
   "metadata": {},
   "source": [
    "## KFold Cross Validation"
   ]
  },
  {
   "cell_type": "markdown",
   "metadata": {},
   "source": [
    "### Do the learning process"
   ]
  },
  {
   "cell_type": "code",
   "execution_count": 39,
   "metadata": {},
   "outputs": [],
   "source": [
    "kfold = cross_validate(clf, x_train, y_train, cv=10, scoring=('accuracy', 'precision', 'recall', 'f1'))"
   ]
  },
  {
   "cell_type": "markdown",
   "metadata": {},
   "source": [
    "### Result of prediction"
   ]
  },
  {
   "cell_type": "code",
   "execution_count": 38,
   "metadata": {},
   "outputs": [
    {
     "name": "stdout",
     "output_type": "stream",
     "text": [
      "Decision Tree Classifier Base (from before)\n",
      "Accuracy:  0.9122807017543859\n",
      "Precision:  0.9696969696969697\n",
      "Recall:  0.8888888888888888\n",
      "F1 Score:  0.927536231884058\n",
      "Decision Tree Classifier KFold (from now)\n",
      "Accuracy:  0.9493719806763286\n",
      "Precision:  0.9652535503881443\n",
      "Recall:  0.9543103448275861\n",
      "F1 Score:  0.9589031382577289\n"
     ]
    }
   ],
   "source": [
    "print(\"Decision Tree Classifier Base (from before)\")\n",
    "\n",
    "print(\"Accuracy: \", accuracy_score(y_test, y_pred_tree))\n",
    "print(\"Precision: \", precision_score(y_test, y_pred_tree))\n",
    "print(\"Recall: \", recall_score(y_test, y_pred_tree))\n",
    "print(\"F1 Score: \", f1_score(y_test, y_pred_tree))\n",
    "\n",
    "print(\"Decision Tree Classifier KFold (from now)\")\n",
    "print(\"Accuracy: \", kfold['test_accuracy'].mean())\n",
    "print(\"Precision: \", kfold['test_precision'].mean())\n",
    "print(\"Recall: \", kfold['test_recall'].mean())\n",
    "print(\"F1 Score: \", kfold['test_f1'].mean())"
   ]
  },
  {
   "attachments": {},
   "cell_type": "markdown",
   "metadata": {},
   "source": [
    "Dari hasil perbandingan Decision Tree Classifier dengan KFold dan tanpa KFold, terlihat perbedaan yang kecil namun tetap cukup signifikan. Hal ini berarti bahwa model yang sebelumnya dibangkitkan sudah cukup baik apabila dibandingkan dengan versi K-Fold.\n",
    "\n",
    "K-Fold sendiri seringkali digunakan untuk menaikkan akurasi dari model yang memiliki akurasi yang rendah akibat beberapa hal, misal overfitting."
   ]
  }
 ],
 "metadata": {
  "kernelspec": {
   "display_name": "Python 3",
   "language": "python",
   "name": "python3"
  },
  "language_info": {
   "codemirror_mode": {
    "name": "ipython",
    "version": 3
   },
   "file_extension": ".py",
   "mimetype": "text/x-python",
   "name": "python",
   "nbconvert_exporter": "python",
   "pygments_lexer": "ipython3",
   "version": "3.8.2"
  },
  "vscode": {
   "interpreter": {
    "hash": "fbe58ca63fe33f9eeae9e71d10368d2b4a57f2b1b395836210cc60d362c66949"
   }
  }
 },
 "nbformat": 4,
 "nbformat_minor": 4
}
