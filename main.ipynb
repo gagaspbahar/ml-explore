{
 "cells": [
  {
   "cell_type": "code",
   "execution_count": 21,
   "metadata": {},
   "outputs": [],
   "source": [
    "from sklearn import tree\n",
    "from sklearn.datasets import load_breast_cancer\n",
    "from sklearn.model_selection import train_test_split\n",
    "import pickle\n",
    "from sklearn.metrics import accuracy_score, precision_score, recall_score, f1_score, confusion_matrix"
   ]
  },
  {
   "cell_type": "code",
   "execution_count": 12,
   "metadata": {},
   "outputs": [],
   "source": [
    "# Load the data\n",
    "cancer = load_breast_cancer()\n",
    "x_train, x_test, y_train, y_test = train_test_split(cancer.data, cancer.target, test_size=0.2)"
   ]
  },
  {
   "cell_type": "code",
   "execution_count": 13,
   "metadata": {},
   "outputs": [],
   "source": [
    "clf = tree.DecisionTreeClassifier()\n",
    "clf = clf.fit(x_train, y_train)"
   ]
  },
  {
   "cell_type": "code",
   "execution_count": 14,
   "metadata": {},
   "outputs": [
    {
     "name": "stdout",
     "output_type": "stream",
     "text": [
      "|--- worst perimeter <= 112.80\n",
      "|   |--- worst concave points <= 0.14\n",
      "|   |   |--- mean perimeter <= 101.22\n",
      "|   |   |   |--- area error <= 38.60\n",
      "|   |   |   |   |--- class: 1\n",
      "|   |   |   |--- area error >  38.60\n",
      "|   |   |   |   |--- mean radius <= 14.44\n",
      "|   |   |   |   |   |--- worst symmetry <= 0.21\n",
      "|   |   |   |   |   |   |--- class: 0\n",
      "|   |   |   |   |   |--- worst symmetry >  0.21\n",
      "|   |   |   |   |   |   |--- class: 1\n",
      "|   |   |   |   |--- mean radius >  14.44\n",
      "|   |   |   |   |   |--- class: 0\n",
      "|   |   |--- mean perimeter >  101.22\n",
      "|   |   |   |--- class: 0\n",
      "|   |--- worst concave points >  0.14\n",
      "|   |   |--- worst texture <= 25.67\n",
      "|   |   |   |--- worst fractal dimension <= 0.12\n",
      "|   |   |   |   |--- worst concave points <= 0.14\n",
      "|   |   |   |   |   |--- class: 0\n",
      "|   |   |   |   |--- worst concave points >  0.14\n",
      "|   |   |   |   |   |--- class: 1\n",
      "|   |   |   |--- worst fractal dimension >  0.12\n",
      "|   |   |   |   |--- class: 0\n",
      "|   |   |--- worst texture >  25.67\n",
      "|   |   |   |--- mean concavity <= 0.07\n",
      "|   |   |   |   |--- class: 1\n",
      "|   |   |   |--- mean concavity >  0.07\n",
      "|   |   |   |   |--- perimeter error <= 1.53\n",
      "|   |   |   |   |   |--- concave points error <= 0.01\n",
      "|   |   |   |   |   |   |--- class: 0\n",
      "|   |   |   |   |   |--- concave points error >  0.01\n",
      "|   |   |   |   |   |   |--- class: 1\n",
      "|   |   |   |   |--- perimeter error >  1.53\n",
      "|   |   |   |   |   |--- class: 0\n",
      "|--- worst perimeter >  112.80\n",
      "|   |--- worst perimeter <= 117.45\n",
      "|   |   |--- mean texture <= 18.68\n",
      "|   |   |   |--- class: 1\n",
      "|   |   |--- mean texture >  18.68\n",
      "|   |   |   |--- mean texture <= 24.84\n",
      "|   |   |   |   |--- class: 0\n",
      "|   |   |   |--- mean texture >  24.84\n",
      "|   |   |   |   |--- class: 1\n",
      "|   |--- worst perimeter >  117.45\n",
      "|   |   |--- class: 0\n",
      "\n"
     ]
    }
   ],
   "source": [
    "tree_text = tree.export_text(clf, feature_names=list(cancer.feature_names))\n",
    "print(tree_text)"
   ]
  },
  {
   "cell_type": "code",
   "execution_count": 15,
   "metadata": {},
   "outputs": [],
   "source": [
    "pickle.dump(clf, open('models/tree_model.sav', 'wb'))"
   ]
  },
  {
   "cell_type": "code",
   "execution_count": 25,
   "metadata": {},
   "outputs": [
    {
     "name": "stdout",
     "output_type": "stream",
     "text": [
      "Decision Tree Classifier\n",
      "Accuracy:  0.9122807017543859\n",
      "Precision:  0.9577464788732394\n",
      "Recall:  0.9066666666666666\n",
      "F1 Score:  0.9315068493150686\n",
      "Confusion matrix:  [[36  3]\n",
      " [ 7 68]]\n"
     ]
    }
   ],
   "source": [
    "tree_model = pickle.load(open('models/tree_model.sav', 'rb'))\n",
    "y_pred = tree_model.predict(x_test)\n",
    "\n",
    "print(\"Decision Tree Classifier\")\n",
    "\n",
    "print(\"Accuracy: \", accuracy_score(y_test, y_pred))\n",
    "print(\"Precision: \", precision_score(y_test, y_pred))\n",
    "print(\"Recall: \", recall_score(y_test, y_pred))\n",
    "print(\"F1 Score: \", f1_score(y_test, y_pred))\n",
    "print(\"Confusion matrix: \", confusion_matrix(y_test, y_pred))"
   ]
  },
  {
   "cell_type": "code",
   "execution_count": null,
   "metadata": {},
   "outputs": [],
   "source": []
  }
 ],
 "metadata": {
  "kernelspec": {
   "display_name": "Python 3 (ipykernel)",
   "language": "python",
   "name": "python3"
  },
  "language_info": {
   "codemirror_mode": {
    "name": "ipython",
    "version": 3
   },
   "file_extension": ".py",
   "mimetype": "text/x-python",
   "name": "python",
   "nbconvert_exporter": "python",
   "pygments_lexer": "ipython3",
   "version": "3.10.4"
  },
  "vscode": {
   "interpreter": {
    "hash": "c11d3756afb755192ad1daf2bdadcd963312c9dfc2a8ce8e16ef52a8aba9b442"
   }
  }
 },
 "nbformat": 4,
 "nbformat_minor": 2
}
