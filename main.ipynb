{
 "cells": [
  {
   "cell_type": "code",
   "execution_count": 1,
   "metadata": {},
   "outputs": [],
   "source": [
    "from sklearn import tree\n",
    "from sklearn.datasets import load_breast_cancer\n",
    "import pickle"
   ]
  },
  {
   "cell_type": "code",
   "execution_count": 2,
   "metadata": {},
   "outputs": [],
   "source": [
    "# Load the data\n",
    "cancer = load_breast_cancer()\n",
    "clf = tree.DecisionTreeClassifier()\n",
    "clf = clf.fit(cancer.data, cancer.target)"
   ]
  },
  {
   "cell_type": "code",
   "execution_count": 3,
   "metadata": {},
   "outputs": [
    {
     "name": "stdout",
     "output_type": "stream",
     "text": [
      "|--- worst radius <= 16.80\n",
      "|   |--- worst concave points <= 0.14\n",
      "|   |   |--- worst fractal dimension <= 0.06\n",
      "|   |   |   |--- class: 0\n",
      "|   |   |--- worst fractal dimension >  0.06\n",
      "|   |   |   |--- area error <= 38.60\n",
      "|   |   |   |   |--- smoothness error <= 0.00\n",
      "|   |   |   |   |   |--- fractal dimension error <= 0.00\n",
      "|   |   |   |   |   |   |--- class: 0\n",
      "|   |   |   |   |   |--- fractal dimension error >  0.00\n",
      "|   |   |   |   |   |   |--- class: 1\n",
      "|   |   |   |   |--- smoothness error >  0.00\n",
      "|   |   |   |   |   |--- worst texture <= 33.27\n",
      "|   |   |   |   |   |   |--- class: 1\n",
      "|   |   |   |   |   |--- worst texture >  33.27\n",
      "|   |   |   |   |   |   |--- worst texture <= 33.56\n",
      "|   |   |   |   |   |   |   |--- class: 0\n",
      "|   |   |   |   |   |   |--- worst texture >  33.56\n",
      "|   |   |   |   |   |   |   |--- class: 1\n",
      "|   |   |   |--- area error >  38.60\n",
      "|   |   |   |   |--- worst concavity <= 0.33\n",
      "|   |   |   |   |   |--- mean compactness <= 0.06\n",
      "|   |   |   |   |   |   |--- class: 0\n",
      "|   |   |   |   |   |--- mean compactness >  0.06\n",
      "|   |   |   |   |   |   |--- class: 1\n",
      "|   |   |   |   |--- worst concavity >  0.33\n",
      "|   |   |   |   |   |--- class: 0\n",
      "|   |--- worst concave points >  0.14\n",
      "|   |   |--- worst texture <= 25.67\n",
      "|   |   |   |--- worst area <= 810.30\n",
      "|   |   |   |   |--- worst smoothness <= 0.18\n",
      "|   |   |   |   |   |--- class: 1\n",
      "|   |   |   |   |--- worst smoothness >  0.18\n",
      "|   |   |   |   |   |--- class: 0\n",
      "|   |   |   |--- worst area >  810.30\n",
      "|   |   |   |   |--- mean perimeter <= 92.79\n",
      "|   |   |   |   |   |--- class: 0\n",
      "|   |   |   |   |--- mean perimeter >  92.79\n",
      "|   |   |   |   |   |--- class: 1\n",
      "|   |   |--- worst texture >  25.67\n",
      "|   |   |   |--- mean concave points <= 0.05\n",
      "|   |   |   |   |--- worst texture <= 28.55\n",
      "|   |   |   |   |   |--- class: 1\n",
      "|   |   |   |   |--- worst texture >  28.55\n",
      "|   |   |   |   |   |--- class: 0\n",
      "|   |   |   |--- mean concave points >  0.05\n",
      "|   |   |   |   |--- class: 0\n",
      "|--- worst radius >  16.80\n",
      "|   |--- worst texture <= 19.91\n",
      "|   |   |--- compactness error <= 0.02\n",
      "|   |   |   |--- class: 1\n",
      "|   |   |--- compactness error >  0.02\n",
      "|   |   |   |--- class: 0\n",
      "|   |--- worst texture >  19.91\n",
      "|   |   |--- worst smoothness <= 0.09\n",
      "|   |   |   |--- class: 1\n",
      "|   |   |--- worst smoothness >  0.09\n",
      "|   |   |   |--- worst concavity <= 0.18\n",
      "|   |   |   |   |--- worst smoothness <= 0.13\n",
      "|   |   |   |   |   |--- class: 0\n",
      "|   |   |   |   |--- worst smoothness >  0.13\n",
      "|   |   |   |   |   |--- class: 1\n",
      "|   |   |   |--- worst concavity >  0.18\n",
      "|   |   |   |   |--- class: 0\n",
      "\n"
     ]
    }
   ],
   "source": [
    "tree_text = tree.export_text(clf, feature_names=list(cancer.feature_names))\n",
    "print(tree_text)"
   ]
  },
  {
   "cell_type": "code",
   "execution_count": 7,
   "metadata": {},
   "outputs": [],
   "source": [
    "pickle.dump(clf, open('models/tree_model.sav', 'wb'))"
   ]
  }
 ],
 "metadata": {
  "kernelspec": {
   "display_name": "Python 3 (ipykernel)",
   "language": "python",
   "name": "python3"
  },
  "language_info": {
   "codemirror_mode": {
    "name": "ipython",
    "version": 3
   },
   "file_extension": ".py",
   "mimetype": "text/x-python",
   "name": "python",
   "nbconvert_exporter": "python",
   "pygments_lexer": "ipython3",
   "version": "3.10.4"
  },
  "vscode": {
   "interpreter": {
    "hash": "c11d3756afb755192ad1daf2bdadcd963312c9dfc2a8ce8e16ef52a8aba9b442"
   }
  }
 },
 "nbformat": 4,
 "nbformat_minor": 2
}
