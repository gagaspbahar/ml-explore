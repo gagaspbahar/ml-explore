{
 "cells": [
  {
   "cell_type": "code",
   "execution_count": 53,
   "metadata": {},
   "outputs": [],
   "source": [
    "from sklearn import tree\n",
    "from sklearn.datasets import load_breast_cancer\n",
    "from sklearn.model_selection import train_test_split\n",
    "from sklearn.cluster import KMeans\n",
    "from sklearn.linear_model import LogisticRegression\n",
    "from sklearn.neural_network import MLPClassifier\n",
    "from sklearn.svm import SVC\n",
    "from sklearn.pipeline import make_pipeline\n",
    "from sklearn.preprocessing import StandardScaler\n",
    "from sklearn.model_selection import cross_val_score\n",
    "from sklearn.model_selection import cross_validate\n",
    "\n",
    "import pickle\n",
    "from sklearn.metrics import accuracy_score, precision_score, recall_score, f1_score, confusion_matrix"
   ]
  },
  {
   "cell_type": "code",
   "execution_count": 54,
   "metadata": {},
   "outputs": [],
   "source": [
    "# Load the data\n",
    "cancer = load_breast_cancer()\n",
    "x_train, x_test, y_train, y_test = train_test_split(cancer.data, cancer.target, test_size=0.2)"
   ]
  },
  {
   "cell_type": "code",
   "execution_count": 55,
   "metadata": {},
   "outputs": [],
   "source": [
    "clf = tree.DecisionTreeClassifier()\n",
    "clf = clf.fit(x_train, y_train)"
   ]
  },
  {
   "cell_type": "code",
   "execution_count": 56,
   "metadata": {},
   "outputs": [
    {
     "name": "stdout",
     "output_type": "stream",
     "text": [
      "|--- mean concave points <= 0.05\n",
      "|   |--- worst area <= 893.65\n",
      "|   |   |--- symmetry error <= 0.01\n",
      "|   |   |   |--- class: 0\n",
      "|   |   |--- symmetry error >  0.01\n",
      "|   |   |   |--- smoothness error <= 0.00\n",
      "|   |   |   |   |--- fractal dimension error <= 0.00\n",
      "|   |   |   |   |   |--- class: 0\n",
      "|   |   |   |   |--- fractal dimension error >  0.00\n",
      "|   |   |   |   |   |--- class: 1\n",
      "|   |   |   |--- smoothness error >  0.00\n",
      "|   |   |   |   |--- worst texture <= 33.35\n",
      "|   |   |   |   |   |--- class: 1\n",
      "|   |   |   |   |--- worst texture >  33.35\n",
      "|   |   |   |   |   |--- mean texture <= 23.20\n",
      "|   |   |   |   |   |   |--- class: 0\n",
      "|   |   |   |   |   |--- mean texture >  23.20\n",
      "|   |   |   |   |   |   |--- class: 1\n",
      "|   |--- worst area >  893.65\n",
      "|   |   |--- mean texture <= 19.54\n",
      "|   |   |   |--- concave points error <= 0.01\n",
      "|   |   |   |   |--- class: 0\n",
      "|   |   |   |--- concave points error >  0.01\n",
      "|   |   |   |   |--- class: 1\n",
      "|   |   |--- mean texture >  19.54\n",
      "|   |   |   |--- class: 0\n",
      "|--- mean concave points >  0.05\n",
      "|   |--- worst concavity <= 0.22\n",
      "|   |   |--- compactness error <= 0.01\n",
      "|   |   |   |--- class: 0\n",
      "|   |   |--- compactness error >  0.01\n",
      "|   |   |   |--- class: 1\n",
      "|   |--- worst concavity >  0.22\n",
      "|   |   |--- worst perimeter <= 89.95\n",
      "|   |   |   |--- concave points error <= 0.01\n",
      "|   |   |   |   |--- class: 0\n",
      "|   |   |   |--- concave points error >  0.01\n",
      "|   |   |   |   |--- class: 1\n",
      "|   |   |--- worst perimeter >  89.95\n",
      "|   |   |   |--- texture error <= 0.47\n",
      "|   |   |   |   |--- class: 1\n",
      "|   |   |   |--- texture error >  0.47\n",
      "|   |   |   |   |--- mean smoothness <= 0.08\n",
      "|   |   |   |   |   |--- class: 1\n",
      "|   |   |   |   |--- mean smoothness >  0.08\n",
      "|   |   |   |   |   |--- mean texture <= 15.35\n",
      "|   |   |   |   |   |   |--- mean radius <= 15.01\n",
      "|   |   |   |   |   |   |   |--- class: 1\n",
      "|   |   |   |   |   |   |--- mean radius >  15.01\n",
      "|   |   |   |   |   |   |   |--- class: 0\n",
      "|   |   |   |   |   |--- mean texture >  15.35\n",
      "|   |   |   |   |   |   |--- worst radius <= 14.55\n",
      "|   |   |   |   |   |   |   |--- mean concave points <= 0.06\n",
      "|   |   |   |   |   |   |   |   |--- class: 1\n",
      "|   |   |   |   |   |   |   |--- mean concave points >  0.06\n",
      "|   |   |   |   |   |   |   |   |--- class: 0\n",
      "|   |   |   |   |   |   |--- worst radius >  14.55\n",
      "|   |   |   |   |   |   |   |--- class: 0\n",
      "\n"
     ]
    }
   ],
   "source": [
    "tree_text = tree.export_text(clf, feature_names=list(cancer.feature_names))\n",
    "print(tree_text)"
   ]
  },
  {
   "cell_type": "code",
   "execution_count": 57,
   "metadata": {},
   "outputs": [],
   "source": [
    "pickle.dump(clf, open('models/tree_model.sav', 'wb'))"
   ]
  },
  {
   "cell_type": "code",
   "execution_count": 58,
   "metadata": {},
   "outputs": [
    {
     "name": "stdout",
     "output_type": "stream",
     "text": [
      "Decision Tree Classifier\n",
      "Accuracy:  0.8859649122807017\n",
      "Precision:  0.890625\n",
      "Recall:  0.9047619047619048\n",
      "F1 Score:  0.8976377952755906\n",
      "Confusion matrix:  [[44  7]\n",
      " [ 6 57]]\n"
     ]
    }
   ],
   "source": [
    "tree_model = pickle.load(open('models/tree_model.sav', 'rb'))\n",
    "y_pred_tree = tree_model.predict(x_test)\n",
    "\n",
    "print(\"Decision Tree Classifier\")\n",
    "\n",
    "print(\"Accuracy: \", accuracy_score(y_test, y_pred_tree))\n",
    "print(\"Precision: \", precision_score(y_test, y_pred_tree))\n",
    "print(\"Recall: \", recall_score(y_test, y_pred_tree))\n",
    "print(\"F1 Score: \", f1_score(y_test, y_pred_tree))\n",
    "print(\"Confusion matrix: \", confusion_matrix(y_test, y_pred_tree))"
   ]
  },
  {
   "cell_type": "code",
   "execution_count": 59,
   "metadata": {},
   "outputs": [],
   "source": [
    "kmeans = KMeans(n_clusters=2, random_state=0).fit(x_train)\n",
    "pickle.dump(kmeans, open('models/kmeans_model.sav', 'wb'))"
   ]
  },
  {
   "cell_type": "code",
   "execution_count": 60,
   "metadata": {},
   "outputs": [
    {
     "name": "stdout",
     "output_type": "stream",
     "text": [
      "KMeans Classifier\n",
      "Accuracy:  0.8157894736842105\n",
      "Precision:  0.7560975609756098\n",
      "Recall:  0.9841269841269841\n",
      "F1 Score:  0.8551724137931035\n",
      "Confusion matrix:  [[31 20]\n",
      " [ 1 62]]\n"
     ]
    }
   ],
   "source": [
    "kmeans_model = pickle.load(open('models/kmeans_model.sav', 'rb'))\n",
    "y_pred_kmeans = kmeans_model.predict(x_test)\n",
    "\n",
    "print(\"KMeans Classifier\")\n",
    "\n",
    "print(\"Accuracy: \", accuracy_score(y_test, y_pred_kmeans))\n",
    "print(\"Precision: \", precision_score(y_test, y_pred_kmeans))\n",
    "print(\"Recall: \", recall_score(y_test, y_pred_kmeans))\n",
    "print(\"F1 Score: \", f1_score(y_test, y_pred_kmeans))\n",
    "print(\"Confusion matrix: \", confusion_matrix(y_test, y_pred_kmeans))"
   ]
  },
  {
   "cell_type": "code",
   "execution_count": 61,
   "metadata": {},
   "outputs": [],
   "source": [
    "logisticRegr = LogisticRegression(max_iter=10000).fit(x_train, y_train)\n",
    "pickle.dump(logisticRegr, open('models/logistic_model.sav', 'wb'))"
   ]
  },
  {
   "cell_type": "code",
   "execution_count": 62,
   "metadata": {},
   "outputs": [
    {
     "name": "stdout",
     "output_type": "stream",
     "text": [
      "Logistic Regression Classifier\n",
      "Accuracy:  0.956140350877193\n",
      "Precision:  0.9833333333333333\n",
      "Recall:  0.9365079365079365\n",
      "F1 Score:  0.9593495934959351\n",
      "Confusion matrix:  [[50  1]\n",
      " [ 4 59]]\n"
     ]
    }
   ],
   "source": [
    "logistic_model = pickle.load(open('models/logistic_model.sav', 'rb'))\n",
    "y_pred_logistic = logistic_model.predict(x_test)\n",
    "\n",
    "print(\"Logistic Regression Classifier\")\n",
    "\n",
    "print(\"Accuracy: \", accuracy_score(y_test, y_pred_logistic))\n",
    "print(\"Precision: \", precision_score(y_test, y_pred_logistic))\n",
    "print(\"Recall: \", recall_score(y_test, y_pred_logistic))\n",
    "print(\"F1 Score: \", f1_score(y_test, y_pred_logistic))\n",
    "print(\"Confusion matrix: \", confusion_matrix(y_test, y_pred_logistic))"
   ]
  },
  {
   "cell_type": "code",
   "execution_count": 63,
   "metadata": {},
   "outputs": [],
   "source": [
    "neural_network = MLPClassifier(solver='lbfgs', alpha=1e-5, hidden_layer_sizes=(5, 2), random_state=1, max_iter=1000).fit(x_train, y_train)\n",
    "pickle.dump(neural_network, open('models/neural_model.sav', 'wb'))"
   ]
  },
  {
   "cell_type": "code",
   "execution_count": 64,
   "metadata": {},
   "outputs": [
    {
     "name": "stdout",
     "output_type": "stream",
     "text": [
      "Neural Network Classifier\n",
      "Accuracy:  0.9298245614035088\n",
      "Precision:  0.9365079365079365\n",
      "Recall:  0.9365079365079365\n",
      "F1 Score:  0.9365079365079365\n",
      "Confusion matrix:  [[47  4]\n",
      " [ 4 59]]\n"
     ]
    }
   ],
   "source": [
    "neural_model = pickle.load(open('models/neural_model.sav', 'rb'))\n",
    "y_pred_neural = neural_model.predict(x_test)\n",
    "\n",
    "print(\"Neural Network Classifier\")\n",
    "\n",
    "print(\"Accuracy: \", accuracy_score(y_test, y_pred_neural))\n",
    "print(\"Precision: \", precision_score(y_test, y_pred_neural))\n",
    "print(\"Recall: \", recall_score(y_test, y_pred_neural))\n",
    "print(\"F1 Score: \", f1_score(y_test, y_pred_neural))\n",
    "print(\"Confusion matrix: \", confusion_matrix(y_test, y_pred_neural))"
   ]
  },
  {
   "cell_type": "code",
   "execution_count": 65,
   "metadata": {},
   "outputs": [],
   "source": [
    "svm = make_pipeline(StandardScaler(), SVC(gamma='auto')).fit(x_train, y_train)\n",
    "pickle.dump(svm, open('models/svm_model.sav', 'wb'))"
   ]
  },
  {
   "cell_type": "code",
   "execution_count": 66,
   "metadata": {},
   "outputs": [
    {
     "name": "stdout",
     "output_type": "stream",
     "text": [
      "SVM Classifier\n",
      "Accuracy:  0.9649122807017544\n",
      "Precision:  0.9682539682539683\n",
      "Recall:  0.9682539682539683\n",
      "F1 Score:  0.9682539682539683\n",
      "Confusion matrix:  [[49  2]\n",
      " [ 2 61]]\n"
     ]
    }
   ],
   "source": [
    "svm_model = pickle.load(open('models/svm_model.sav', 'rb'))\n",
    "y_pred_svm = svm_model.predict(x_test)\n",
    "\n",
    "print(\"SVM Classifier\")\n",
    "\n",
    "print(\"Accuracy: \", accuracy_score(y_test, y_pred_svm))\n",
    "print(\"Precision: \", precision_score(y_test, y_pred_svm))\n",
    "print(\"Recall: \", recall_score(y_test, y_pred_svm))\n",
    "print(\"F1 Score: \", f1_score(y_test, y_pred_svm))\n",
    "print(\"Confusion matrix: \", confusion_matrix(y_test, y_pred_svm))"
   ]
  },
  {
   "cell_type": "code",
   "execution_count": 67,
   "metadata": {},
   "outputs": [
    {
     "name": "stdout",
     "output_type": "stream",
     "text": [
      "Decision Tree Classifier Base (from before)\n",
      "Accuracy:  0.8859649122807017\n",
      "Precision:  0.890625\n",
      "Recall:  0.9047619047619048\n",
      "F1 Score:  0.8976377952755906\n",
      "Decision Tree Classifier KFold (from now)\n",
      "Accuracy:  0.9319806763285025\n",
      "Precision:  0.942150977035571\n",
      "Recall:  0.9559770114942528\n",
      "F1 Score:  0.9482413735247498\n"
     ]
    }
   ],
   "source": [
    "kfold = cross_validate(clf, x_train, y_train, cv=10, scoring=('accuracy', 'precision', 'recall', 'f1'))\n",
    "print(\"Decision Tree Classifier Base (from before)\")\n",
    "\n",
    "print(\"Accuracy: \", accuracy_score(y_test, y_pred_tree))\n",
    "print(\"Precision: \", precision_score(y_test, y_pred_tree))\n",
    "print(\"Recall: \", recall_score(y_test, y_pred_tree))\n",
    "print(\"F1 Score: \", f1_score(y_test, y_pred_tree))\n",
    "\n",
    "print(\"Decision Tree Classifier KFold (from now)\")\n",
    "print(\"Accuracy: \", kfold['test_accuracy'].mean())\n",
    "print(\"Precision: \", kfold['test_precision'].mean())\n",
    "print(\"Recall: \", kfold['test_recall'].mean())\n",
    "print(\"F1 Score: \", kfold['test_f1'].mean())\n"
   ]
  }
 ],
 "metadata": {
  "kernelspec": {
   "display_name": "Python 3",
   "language": "python",
   "name": "python3"
  },
  "language_info": {
   "codemirror_mode": {
    "name": "ipython",
    "version": 3
   },
   "file_extension": ".py",
   "mimetype": "text/x-python",
   "name": "python",
   "nbconvert_exporter": "python",
   "pygments_lexer": "ipython3",
   "version": "3.9.6"
  },
  "vscode": {
   "interpreter": {
    "hash": "fcfea723ff818178e15c545460e62a88e8490de3a02e2a783b9f4cbbd3056f38"
   }
  }
 },
 "nbformat": 4,
 "nbformat_minor": 2
}
